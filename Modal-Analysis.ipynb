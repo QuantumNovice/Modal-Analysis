{
 "cells": [
  {
   "cell_type": "markdown",
   "metadata": {},
   "source": [
    "## Structural Dynamics - Modal Analysis in Python\n",
    "\n",
    "### Background\n",
    "This notebook was created during course work for Structural Dynamics class at UET Peshawar.\n",
    "\n",
    "#### Course Instructur: Dr Fahad\n",
    "\n",
    "### About the Code\n",
    "I literally wrote this in 30 minutes to solve an assignment deadline. It works fine for all the problems in Structural Dynamics book. 🤢🤢🤢🤢🤢\n",
    "\n",
    "### License \n",
    "Do whatever you want with it. No license. Use it however you seem fit.\n",
    "\n",
    "### About Me\n",
    "I am Has. A Civil Engineering enthusiast and a programming geek.\n",
    "\n",
    "### Sections\n",
    "* [Modal Analysis Basic](#modal_analysis)\n",
    "* [Rayleigh Method](#rayleigh)\n",
    "* [Vionello Stodola Method](#stodola)"
   ]
  },
  {
   "cell_type": "markdown",
   "metadata": {},
   "source": [
    "## Import necessary Modules"
   ]
  },
  {
   "cell_type": "code",
   "execution_count": 64,
   "metadata": {},
   "outputs": [],
   "source": [
    "from sympy import *\n",
    "from sympy.utilities.lambdify import lambdify, implemented_function\n",
    "import numpy as np\n",
    "from copy import deepcopy\n",
    "from scipy.optimize import fsolve\n",
    "import matplotlib.pyplot as plt\n",
    "from IPython.display import Latex, Math"
   ]
  },
  {
   "cell_type": "markdown",
   "metadata": {},
   "source": [
    "## Given Data\n",
    "I use metric units whenever possible"
   ]
  },
  {
   "cell_type": "code",
   "execution_count": 65,
   "metadata": {},
   "outputs": [],
   "source": [
    "m = 2#0000 #kg\n",
    "k1=k2=k3=k = 1e3 #N/m\n",
    "\n",
    "M = m*eye(3)\n",
    "k =Matrix([\n",
    "     [k1+k2, -k2, 0],\n",
    "    [-k2, k1+k2, -k3],\n",
    "    [0, -k3, k3]\n",
    "    ])#*1e7\n",
    "    "
   ]
  },
  {
   "cell_type": "markdown",
   "metadata": {},
   "source": [
    "## Display Mass Matrix\n",
    "just to be sure"
   ]
  },
  {
   "cell_type": "code",
   "execution_count": 66,
   "metadata": {},
   "outputs": [
    {
     "data": {
      "text/latex": [
       "$\\displaystyle \\left[\\begin{matrix}2 & 0 & 0\\\\0 & 2 & 0\\\\0 & 0 & 2\\end{matrix}\\right]$"
      ],
      "text/plain": [
       "Matrix([\n",
       "[2, 0, 0],\n",
       "[0, 2, 0],\n",
       "[0, 0, 2]])"
      ]
     },
     "metadata": {},
     "output_type": "display_data"
    }
   ],
   "source": [
    "display(M)"
   ]
  },
  {
   "cell_type": "markdown",
   "metadata": {},
   "source": [
    "## Display Stiffness Matrix"
   ]
  },
  {
   "cell_type": "code",
   "execution_count": 67,
   "metadata": {},
   "outputs": [
    {
     "data": {
      "text/latex": [
       "$\\displaystyle \\left[\\begin{matrix}2000.0 & -1000.0 & 0\\\\-1000.0 & 2000.0 & -1000.0\\\\0 & -1000.0 & 1000.0\\end{matrix}\\right]$"
      ],
      "text/plain": [
       "Matrix([\n",
       "[ 2000.0, -1000.0,       0],\n",
       "[-1000.0,  2000.0, -1000.0],\n",
       "[      0, -1000.0,  1000.0]])"
      ]
     },
     "metadata": {},
     "output_type": "display_data"
    }
   ],
   "source": [
    "display(k)"
   ]
  },
  {
   "cell_type": "markdown",
   "metadata": {},
   "source": [
    "## Let's Derive the Characteristic Polynomial"
   ]
  },
  {
   "cell_type": "code",
   "execution_count": 68,
   "metadata": {},
   "outputs": [
    {
     "data": {
      "text/latex": [
       "$\\displaystyle - 8.0 \\omega_{n}^{6} + 20000.0 \\omega_{n}^{4} - 12000000.0 \\omega_{n}^{2} + 1000000000.0$"
      ],
      "text/plain": [
       "-8.0*omega_n**6 + 20000.0*omega_n**4 - 12000000.0*omega_n**2 + 1000000000.0"
      ]
     },
     "metadata": {},
     "output_type": "display_data"
    }
   ],
   "source": [
    "omega_n = Symbol('omega_n')\n",
    "eq = k - omega_n**2 * M\n",
    "det = eq.det()\n",
    "display(det)"
   ]
  },
  {
   "cell_type": "markdown",
   "metadata": {},
   "source": [
    "## Display the Matrix for Eigen Value Problem"
   ]
  },
  {
   "cell_type": "code",
   "execution_count": 69,
   "metadata": {
    "scrolled": true
   },
   "outputs": [
    {
     "data": {
      "text/latex": [
       "$\\displaystyle \\left[\\begin{matrix}2000.0 - 2 \\omega_{n}^{2} & -1000.0 & 0\\\\-1000.0 & 2000.0 - 2 \\omega_{n}^{2} & -1000.0\\\\0 & -1000.0 & 1000.0 - 2 \\omega_{n}^{2}\\end{matrix}\\right]$"
      ],
      "text/plain": [
       "Matrix([\n",
       "[2000.0 - 2*omega_n**2,               -1000.0,                     0],\n",
       "[              -1000.0, 2000.0 - 2*omega_n**2,               -1000.0],\n",
       "[                    0,               -1000.0, 1000.0 - 2*omega_n**2]])"
      ]
     },
     "execution_count": 69,
     "metadata": {},
     "output_type": "execute_result"
    }
   ],
   "source": [
    "eq"
   ]
  },
  {
   "cell_type": "markdown",
   "metadata": {},
   "source": [
    "## Angular Frequency"
   ]
  },
  {
   "cell_type": "code",
   "execution_count": 70,
   "metadata": {},
   "outputs": [
    {
     "data": {
      "text/latex": [
       "$\\displaystyle \\left[\\begin{matrix}9.9514386948612\\\\27.8833116046801\\\\40.2925526848167\\end{matrix}\\right]$"
      ],
      "text/plain": [
       "Matrix([\n",
       "[ 9.9514386948612],\n",
       "[27.8833116046801],\n",
       "[40.2925526848167]])"
      ]
     },
     "execution_count": 70,
     "metadata": {},
     "output_type": "execute_result"
    }
   ],
   "source": [
    "f=lambdify(omega_n,det)\n",
    "\n",
    "omega = Matrix([*fsolve(f,10), *fsolve(f,25), *fsolve(f,45)])\n",
    "omega"
   ]
  },
  {
   "cell_type": "markdown",
   "metadata": {},
   "source": [
    "## Time Period"
   ]
  },
  {
   "cell_type": "code",
   "execution_count": 71,
   "metadata": {},
   "outputs": [
    {
     "data": {
      "text/latex": [
       "$\\displaystyle \\left[\\begin{matrix}0.631384616821701\\\\0.225338560794371\\\\0.155939122455928\\end{matrix}\\right]$"
      ],
      "text/plain": [
       "Matrix([\n",
       "[0.631384616821701],\n",
       "[0.225338560794371],\n",
       "[0.155939122455928]])"
      ]
     },
     "execution_count": 71,
     "metadata": {},
     "output_type": "execute_result"
    }
   ],
   "source": [
    "Tn = Matrix([2*pi/om for om in omega])\n",
    "Tn.n()"
   ]
  },
  {
   "cell_type": "markdown",
   "metadata": {},
   "source": [
    "# Modal Analysis\n",
    "<a id='modal_analysis'></a>"
   ]
  },
  {
   "cell_type": "markdown",
   "metadata": {},
   "source": [
    "## Mode : 1"
   ]
  },
  {
   "cell_type": "code",
   "execution_count": 8,
   "metadata": {},
   "outputs": [
    {
     "data": {
      "text/latex": [
       "$\\displaystyle \\left[\\begin{matrix}1801.93773580484 & -1000.0 & 0\\\\-1000.0 & 1801.93773580484 & -1000.0\\\\0 & -1000.0 & 801.937735804838\\end{matrix}\\right]$"
      ],
      "text/plain": [
       "Matrix([\n",
       "[1801.93773580484,          -1000.0,                0],\n",
       "[         -1000.0, 1801.93773580484,          -1000.0],\n",
       "[               0,          -1000.0, 801.937735804838]])"
      ]
     },
     "execution_count": 8,
     "metadata": {},
     "output_type": "execute_result"
    }
   ],
   "source": [
    "sys = eq.subs(omega_n, omega[0])\n",
    "sys"
   ]
  },
  {
   "cell_type": "code",
   "execution_count": 9,
   "metadata": {},
   "outputs": [
    {
     "data": {
      "text/latex": [
       "$\\displaystyle \\left[\\begin{matrix}1\\\\\\phi_{21}\\\\\\phi_{31}\\end{matrix}\\right]$"
      ],
      "text/plain": [
       "Matrix([\n",
       "[     1],\n",
       "[phi_21],\n",
       "[phi_31]])"
      ]
     },
     "execution_count": 9,
     "metadata": {},
     "output_type": "execute_result"
    }
   ],
   "source": [
    "phi_21, phi_31 = symbols('phi_21, phi_31')\n",
    "vect = Matrix([1, phi_21, phi_31])\n",
    "vect "
   ]
  },
  {
   "cell_type": "code",
   "execution_count": 10,
   "metadata": {},
   "outputs": [
    {
     "data": {
      "text/latex": [
       "$\\displaystyle \\left[\\begin{matrix}1801.93773580484 - 1000.0 \\phi_{21}\\\\1801.93773580484 \\phi_{21} - 1000.0 \\phi_{31} - 1000.0\\\\- 1000.0 \\phi_{21} + 801.937735804838 \\phi_{31}\\end{matrix}\\right]$"
      ],
      "text/plain": [
       "Matrix([\n",
       "[                1801.93773580484 - 1000.0*phi_21],\n",
       "[1801.93773580484*phi_21 - 1000.0*phi_31 - 1000.0],\n",
       "[        -1000.0*phi_21 + 801.937735804838*phi_31]])"
      ]
     },
     "execution_count": 10,
     "metadata": {},
     "output_type": "execute_result"
    }
   ],
   "source": [
    "res = (sys*vect)\n",
    "res"
   ]
  },
  {
   "cell_type": "code",
   "execution_count": 11,
   "metadata": {},
   "outputs": [
    {
     "data": {
      "text/latex": [
       "$\\displaystyle \\left[\\begin{matrix}1\\\\1.80193773580484\\\\2.24697960371747\\end{matrix}\\right]$"
      ],
      "text/plain": [
       "Matrix([\n",
       "[               1],\n",
       "[1.80193773580484],\n",
       "[2.24697960371747]])"
      ]
     },
     "execution_count": 11,
     "metadata": {},
     "output_type": "execute_result"
    }
   ],
   "source": [
    "phi_21e = solve(res[0],phi_21)[0]\n",
    "phi1 = Matrix([1, phi_21e, *solve(res[1].subs(phi_21,phi_21e) , phi_31)])\n",
    "phi1\n"
   ]
  },
  {
   "cell_type": "markdown",
   "metadata": {},
   "source": [
    "Normalization $\\phi_1$"
   ]
  },
  {
   "cell_type": "code",
   "execution_count": 12,
   "metadata": {},
   "outputs": [],
   "source": [
    "ABSnorm = lambda x: x/max(abs(x))"
   ]
  },
  {
   "cell_type": "code",
   "execution_count": 13,
   "metadata": {},
   "outputs": [
    {
     "data": {
      "text/latex": [
       "$\\displaystyle \\left[\\begin{matrix}0.445041867912628\\\\0.801937735804838\\\\1.0\\end{matrix}\\right]$"
      ],
      "text/plain": [
       "Matrix([\n",
       "[0.445041867912628],\n",
       "[0.801937735804838],\n",
       "[              1.0]])"
      ]
     },
     "execution_count": 13,
     "metadata": {},
     "output_type": "execute_result"
    }
   ],
   "source": [
    "phi1_n = ABSnorm(phi1)\n",
    "phi1_n"
   ]
  },
  {
   "cell_type": "markdown",
   "metadata": {},
   "source": [
    "## Mode 2"
   ]
  },
  {
   "cell_type": "code",
   "execution_count": 14,
   "metadata": {},
   "outputs": [
    {
     "data": {
      "text/latex": [
       "$\\displaystyle \\left[\\begin{matrix}445.041867912629 & -1000.0 & 0\\\\-1000.0 & 445.041867912629 & -1000.0\\\\0 & -1000.0 & -554.958132087371\\end{matrix}\\right]$"
      ],
      "text/plain": [
       "Matrix([\n",
       "[445.041867912629,          -1000.0,                 0],\n",
       "[         -1000.0, 445.041867912629,           -1000.0],\n",
       "[               0,          -1000.0, -554.958132087371]])"
      ]
     },
     "execution_count": 14,
     "metadata": {},
     "output_type": "execute_result"
    }
   ],
   "source": [
    "sys = eq.subs(omega_n, omega[1])\n",
    "sys"
   ]
  },
  {
   "cell_type": "code",
   "execution_count": 15,
   "metadata": {},
   "outputs": [
    {
     "data": {
      "text/latex": [
       "$\\displaystyle \\left[\\begin{matrix}1\\\\\\phi_{22}\\\\\\phi_{32}\\end{matrix}\\right]$"
      ],
      "text/plain": [
       "Matrix([\n",
       "[     1],\n",
       "[phi_22],\n",
       "[phi_32]])"
      ]
     },
     "execution_count": 15,
     "metadata": {},
     "output_type": "execute_result"
    }
   ],
   "source": [
    "phi_22, phi_32 = symbols('phi_22, phi_32')\n",
    "vect = Matrix([1, phi_22, phi_32])\n",
    "vect "
   ]
  },
  {
   "cell_type": "code",
   "execution_count": 16,
   "metadata": {},
   "outputs": [
    {
     "data": {
      "text/latex": [
       "$\\displaystyle \\left[\\begin{matrix}445.041867912629 - 1000.0 \\phi_{22}\\\\445.041867912629 \\phi_{22} - 1000.0 \\phi_{32} - 1000.0\\\\- 1000.0 \\phi_{22} - 554.958132087371 \\phi_{32}\\end{matrix}\\right]$"
      ],
      "text/plain": [
       "Matrix([\n",
       "[                445.041867912629 - 1000.0*phi_22],\n",
       "[445.041867912629*phi_22 - 1000.0*phi_32 - 1000.0],\n",
       "[        -1000.0*phi_22 - 554.958132087371*phi_32]])"
      ]
     },
     "execution_count": 16,
     "metadata": {},
     "output_type": "execute_result"
    }
   ],
   "source": [
    "res = (sys*vect)\n",
    "res"
   ]
  },
  {
   "cell_type": "code",
   "execution_count": 17,
   "metadata": {},
   "outputs": [
    {
     "data": {
      "text/latex": [
       "$\\displaystyle \\left[\\begin{matrix}1\\\\0.445041867912629\\\\-0.801937735804838\\end{matrix}\\right]$"
      ],
      "text/plain": [
       "Matrix([\n",
       "[                 1],\n",
       "[ 0.445041867912629],\n",
       "[-0.801937735804838]])"
      ]
     },
     "execution_count": 17,
     "metadata": {},
     "output_type": "execute_result"
    }
   ],
   "source": [
    "phi_22e = solve(res[0],phi_22)[0]\n",
    "phi2 = Matrix([1, phi_22e, *solve(res[1].subs(phi_22,phi_22e) , phi_32)])\n",
    "phi2"
   ]
  },
  {
   "cell_type": "code",
   "execution_count": 88,
   "metadata": {},
   "outputs": [
    {
     "data": {
      "text/latex": [
       "$\\displaystyle \\left[\\begin{matrix}1\\\\0.445041867912629\\\\-0.801937735804838\\end{matrix}\\right]$"
      ],
      "text/plain": [
       "Matrix([\n",
       "[                 1],\n",
       "[ 0.445041867912629],\n",
       "[-0.801937735804838]])"
      ]
     },
     "execution_count": 88,
     "metadata": {},
     "output_type": "execute_result"
    }
   ],
   "source": [
    "phi2_n = ABSnorm(phi2)\n",
    "phi2_n"
   ]
  },
  {
   "cell_type": "markdown",
   "metadata": {},
   "source": [
    "## Mode 3"
   ]
  },
  {
   "cell_type": "code",
   "execution_count": 18,
   "metadata": {},
   "outputs": [
    {
     "data": {
      "text/latex": [
       "$\\displaystyle \\left[\\begin{matrix}-1246.97960371747 & -1000.0 & 0\\\\-1000.0 & -1246.97960371747 & -1000.0\\\\0 & -1000.0 & -2246.97960371747\\end{matrix}\\right]$"
      ],
      "text/plain": [
       "Matrix([\n",
       "[-1246.97960371747,           -1000.0,                 0],\n",
       "[          -1000.0, -1246.97960371747,           -1000.0],\n",
       "[                0,           -1000.0, -2246.97960371747]])"
      ]
     },
     "execution_count": 18,
     "metadata": {},
     "output_type": "execute_result"
    }
   ],
   "source": [
    "sys = eq.subs(omega_n, omega[2])\n",
    "sys"
   ]
  },
  {
   "cell_type": "code",
   "execution_count": 19,
   "metadata": {},
   "outputs": [
    {
     "data": {
      "text/latex": [
       "$\\displaystyle \\left[\\begin{matrix}1\\\\\\phi_{23}\\\\\\phi_{33}\\end{matrix}\\right]$"
      ],
      "text/plain": [
       "Matrix([\n",
       "[     1],\n",
       "[phi_23],\n",
       "[phi_33]])"
      ]
     },
     "execution_count": 19,
     "metadata": {},
     "output_type": "execute_result"
    }
   ],
   "source": [
    "phi_23, phi_33 = symbols('phi_23, phi_33')\n",
    "vect = Matrix([1, phi_23, phi_33])\n",
    "vect "
   ]
  },
  {
   "cell_type": "code",
   "execution_count": 20,
   "metadata": {},
   "outputs": [
    {
     "data": {
      "text/latex": [
       "$\\displaystyle \\left[\\begin{matrix}- 1000.0 \\phi_{23} - 1246.97960371747\\\\- 1246.97960371747 \\phi_{23} - 1000.0 \\phi_{33} - 1000.0\\\\- 1000.0 \\phi_{23} - 2246.97960371747 \\phi_{33}\\end{matrix}\\right]$"
      ],
      "text/plain": [
       "Matrix([\n",
       "[                -1000.0*phi_23 - 1246.97960371747],\n",
       "[-1246.97960371747*phi_23 - 1000.0*phi_33 - 1000.0],\n",
       "[         -1000.0*phi_23 - 2246.97960371747*phi_33]])"
      ]
     },
     "execution_count": 20,
     "metadata": {},
     "output_type": "execute_result"
    }
   ],
   "source": [
    "res = (sys*vect)\n",
    "res"
   ]
  },
  {
   "cell_type": "code",
   "execution_count": 21,
   "metadata": {},
   "outputs": [
    {
     "data": {
      "text/latex": [
       "$\\displaystyle \\left[\\begin{matrix}1\\\\-1.24697960371747\\\\0.554958132087374\\end{matrix}\\right]$"
      ],
      "text/plain": [
       "Matrix([\n",
       "[                1],\n",
       "[-1.24697960371747],\n",
       "[0.554958132087374]])"
      ]
     },
     "execution_count": 21,
     "metadata": {},
     "output_type": "execute_result"
    }
   ],
   "source": [
    "phi_23e = solve(res[0],phi_23)[0]\n",
    "phi3 = Matrix([1, phi_23e, *solve(res[1].subs(phi_23,phi_23e) , phi_33)])\n",
    "phi3"
   ]
  },
  {
   "cell_type": "code",
   "execution_count": 105,
   "metadata": {},
   "outputs": [
    {
     "data": {
      "text/latex": [
       "$\\displaystyle \\left[\\begin{matrix}0.801937735804836\\\\-1.0\\\\0.44504186791263\\end{matrix}\\right]$"
      ],
      "text/plain": [
       "Matrix([\n",
       "[0.801937735804836],\n",
       "[             -1.0],\n",
       "[ 0.44504186791263]])"
      ]
     },
     "execution_count": 105,
     "metadata": {},
     "output_type": "execute_result"
    }
   ],
   "source": [
    "phi3_n = ABSnorm(phi3)\n",
    "phi3_n"
   ]
  },
  {
   "cell_type": "markdown",
   "metadata": {},
   "source": [
    "## Plotting Mode Shapes"
   ]
  },
  {
   "cell_type": "code",
   "execution_count": 104,
   "metadata": {},
   "outputs": [
    {
     "data": {
      "text/plain": [
       "[<matplotlib.lines.Line2D at 0x24073def8e0>]"
      ]
     },
     "execution_count": 104,
     "metadata": {},
     "output_type": "execute_result"
    },
    {
     "data": {
      "image/png": "[encoded data removed]",
      "text/plain": [
       "<Figure size 432x288 with 1 Axes>"
      ]
     },
     "metadata": {
      "needs_background": "light"
     },
     "output_type": "display_data"
    }
   ],
   "source": [
    "plt.plot(phi3_n,range(3))"
   ]
  },
  {
   "cell_type": "code",
   "execution_count": 102,
   "metadata": {},
   "outputs": [
    {
     "data": {
      "text/plain": [
       "[<matplotlib.lines.Line2D at 0x24073d0fcd0>]"
      ]
     },
     "execution_count": 102,
     "metadata": {},
     "output_type": "execute_result"
    },
    {
     "data": {
      "image/png": "[encoded data removed]",
      "text/plain": [
       "<Figure size 432x288 with 1 Axes>"
      ]
     },
     "metadata": {
      "needs_background": "light"
     },
     "output_type": "display_data"
    }
   ],
   "source": [
    "plt.plot(phi2_n,range(3))"
   ]
  },
  {
   "cell_type": "code",
   "execution_count": 103,
   "metadata": {},
   "outputs": [
    {
     "data": {
      "text/plain": [
       "[<matplotlib.lines.Line2D at 0x24073d80ac0>]"
      ]
     },
     "execution_count": 103,
     "metadata": {},
     "output_type": "execute_result"
    },
    {
     "data": {
      "image/png": "[encoded data removed]",
      "text/plain": [
       "<Figure size 432x288 with 1 Axes>"
      ]
     },
     "metadata": {
      "needs_background": "light"
     },
     "output_type": "display_data"
    }
   ],
   "source": [
    "plt.plot(phi1_n,1*np.arange(3))"
   ]
  },
  {
   "cell_type": "markdown",
   "metadata": {},
   "source": [
    "# Rayleigh Method for MDOF\n",
    "\n",
    "<a id='rayleigh'></a>"
   ]
  },
  {
   "cell_type": "code",
   "execution_count": 23,
   "metadata": {},
   "outputs": [
    {
     "data": {
      "text/latex": [
       "$\\displaystyle \\left[\\begin{matrix}0.333333333333333\\\\0.666666666666667\\\\1.0\\end{matrix}\\right]$"
      ],
      "text/plain": [
       "Matrix([\n",
       "[0.333333333333333],\n",
       "[0.666666666666667],\n",
       "[              1.0]])"
      ]
     },
     "execution_count": 23,
     "metadata": {},
     "output_type": "execute_result"
    }
   ],
   "source": [
    "stories = 3\n",
    "psi = Matrix([i/3 for i in range(1,stories+1)])\n",
    "psi"
   ]
  },
  {
   "cell_type": "code",
   "execution_count": 24,
   "metadata": {},
   "outputs": [
    {
     "data": {
      "text/latex": [
       "$\\displaystyle \\left[\\begin{matrix}6.66666666666667\\\\13.3333333333333\\\\20.0\\end{matrix}\\right]$"
      ],
      "text/plain": [
       "Matrix([\n",
       "[6.66666666666667],\n",
       "[13.3333333333333],\n",
       "[            20.0]])"
      ]
     },
     "execution_count": 24,
     "metadata": {},
     "output_type": "execute_result"
    }
   ],
   "source": [
    "# Future me: Remove this\n",
    "g = m*psi*10 # multiplying this so I can be consistent with slides\n",
    "g"
   ]
  },
  {
   "cell_type": "code",
   "execution_count": 25,
   "metadata": {},
   "outputs": [
    {
     "data": {
      "text/latex": [
       "$\\displaystyle \\left[\\begin{matrix}20\\\\20\\\\20\\end{matrix}\\right]$"
      ],
      "text/plain": [
       "Matrix([\n",
       "[20],\n",
       "[20],\n",
       "[20]])"
      ]
     },
     "execution_count": 25,
     "metadata": {},
     "output_type": "execute_result"
    }
   ],
   "source": [
    "# mass of each storey\n",
    "ms = Matrix([20, 20, 20])\n",
    "ms"
   ]
  },
  {
   "cell_type": "code",
   "execution_count": 26,
   "metadata": {},
   "outputs": [
    {
     "name": "stdout",
     "output_type": "stream",
     "text": [
      "40.0000000000000\n",
      "[[20.0000000000000] \n",
      " [13.3333333333333] \n",
      " [6.66666666666667]]\n"
     ]
    }
   ],
   "source": [
    "ms  = np.array(ms)\n",
    "psi = np.array(psi)\n",
    "sf  = psi*ms\n",
    "\n",
    "a,b = deepcopy(sf[0]), deepcopy(sf[2])\n",
    "sf[0] = b\n",
    "sf[2] = a\n",
    "\n",
    "sf_max = sum(sf)[0]\n",
    "print(sf_max)\n",
    "pprint(sf)"
   ]
  },
  {
   "cell_type": "code",
   "execution_count": 27,
   "metadata": {},
   "outputs": [
    {
     "name": "stdout",
     "output_type": "stream",
     "text": [
      "[20.0000000000000 33.3333333333333 40.0000000000000]\n"
     ]
    }
   ],
   "source": [
    "af = np.cumsum(sf)\n",
    "pprint(af)"
   ]
  },
  {
   "cell_type": "code",
   "execution_count": 28,
   "metadata": {},
   "outputs": [
    {
     "data": {
      "text/latex": [
       "$\\displaystyle \\left[\\begin{matrix}40.0\\\\73.3333333333333\\\\93.3333333333333\\end{matrix}\\right]$"
      ],
      "text/plain": [
       "Matrix([\n",
       "[            40.0],\n",
       "[73.3333333333333],\n",
       "[93.3333333333333]])"
      ]
     },
     "execution_count": 28,
     "metadata": {},
     "output_type": "execute_result"
    }
   ],
   "source": [
    "theta = ones(3,1)*sf_max\n",
    "theta[1] += af[1]\n",
    "theta[2] += af[1] + af[0]\n",
    "theta"
   ]
  },
  {
   "cell_type": "code",
   "execution_count": 29,
   "metadata": {},
   "outputs": [
    {
     "data": {
      "text/latex": [
       "$\\displaystyle 311.111111111111$"
      ],
      "text/plain": [
       "311.111111111111"
      ]
     },
     "execution_count": 29,
     "metadata": {},
     "output_type": "execute_result"
    }
   ],
   "source": [
    "k_star = (theta.T * g)[0] * 10**(3-4)\n",
    "k_star"
   ]
  },
  {
   "cell_type": "code",
   "execution_count": 30,
   "metadata": {},
   "outputs": [
    {
     "data": {
      "text/latex": [
       "$\\displaystyle 3.13777777777778$"
      ],
      "text/plain": [
       "3.13777777777778"
      ]
     },
     "execution_count": 30,
     "metadata": {},
     "output_type": "execute_result"
    }
   ],
   "source": [
    "m_star = (theta.T*m*theta)[0]*1e-4\n",
    "m_star"
   ]
  },
  {
   "cell_type": "code",
   "execution_count": 31,
   "metadata": {},
   "outputs": [
    {
     "data": {
      "text/latex": [
       "$\\displaystyle 99.1501416430595$"
      ],
      "text/plain": [
       "99.1501416430595"
      ]
     },
     "execution_count": 31,
     "metadata": {},
     "output_type": "execute_result"
    }
   ],
   "source": [
    "omega_n_sq = k_star/m_star\n",
    "omega_n_sq "
   ]
  },
  {
   "cell_type": "code",
   "execution_count": 32,
   "metadata": {},
   "outputs": [
    {
     "data": {
      "text/latex": [
       "$\\displaystyle \\left[\\begin{matrix}0.004\\\\0.00733333333333333\\\\0.00933333333333333\\end{matrix}\\right]$"
      ],
      "text/plain": [
       "Matrix([\n",
       "[              0.004],\n",
       "[0.00733333333333333],\n",
       "[0.00933333333333333]])"
      ]
     },
     "execution_count": 32,
     "metadata": {},
     "output_type": "execute_result"
    }
   ],
   "source": [
    "phi = theta*1e-4\n",
    "phi"
   ]
  },
  {
   "cell_type": "code",
   "execution_count": 33,
   "metadata": {},
   "outputs": [
    {
     "data": {
      "text/latex": [
       "$\\displaystyle \\left[\\begin{matrix}0.428571428571429\\\\0.785714285714286\\\\1.0\\end{matrix}\\right]$"
      ],
      "text/plain": [
       "Matrix([\n",
       "[0.428571428571429],\n",
       "[0.785714285714286],\n",
       "[              1.0]])"
      ]
     },
     "execution_count": 33,
     "metadata": {},
     "output_type": "execute_result"
    }
   ],
   "source": [
    "phi_n = ABSnorm(phi)\n",
    "phi_n"
   ]
  },
  {
   "cell_type": "markdown",
   "metadata": {},
   "source": [
    "# Vianello-Stodola\n",
    "<a id='stodola'></a>"
   ]
  },
  {
   "cell_type": "code",
   "execution_count": 34,
   "metadata": {},
   "outputs": [
    {
     "data": {
      "text/latex": [
       "$\\displaystyle \\left[\\begin{matrix}0.333333333333333\\\\0.666666666666667\\\\1.0\\end{matrix}\\right]$"
      ],
      "text/plain": [
       "Matrix([\n",
       "[0.333333333333333],\n",
       "[0.666666666666667],\n",
       "[              1.0]])"
      ]
     },
     "execution_count": 34,
     "metadata": {},
     "output_type": "execute_result"
    }
   ],
   "source": [
    "stories = 3\n",
    "psi = Matrix([i/3 for i in range(1,stories+1)])\n",
    "psi"
   ]
  },
  {
   "cell_type": "code",
   "execution_count": 35,
   "metadata": {},
   "outputs": [
    {
     "data": {
      "text/latex": [
       "$\\displaystyle \\left[\\begin{matrix}0.428571428571429\\\\0.785714285714286\\\\1.0\\end{matrix}\\right]$"
      ],
      "text/plain": [
       "Matrix([\n",
       "[0.428571428571429],\n",
       "[0.785714285714286],\n",
       "[              1.0]])"
      ]
     },
     "execution_count": 35,
     "metadata": {},
     "output_type": "execute_result"
    }
   ],
   "source": [
    "\n",
    "\n",
    "# Future me: Remove this\n",
    "g = m*psi*10 # multiplying this so I can be consistent with slides\n",
    "\n",
    "# mass of each storey\n",
    "ms = Matrix([20, 20, 20])\n",
    "\n",
    "ms  = np.array(ms)\n",
    "psi = np.array(psi)\n",
    "sf  = psi*ms\n",
    "\n",
    "a,b = deepcopy(sf[0]), deepcopy(sf[2])\n",
    "sf[0] = b\n",
    "sf[2] = a\n",
    "\n",
    "sf_max = sum(sf)[0]\n",
    "\n",
    "af = np.cumsum(sf)\n",
    "\n",
    "theta = ones(3,1)*sf_max\n",
    "theta[1] += af[1]\n",
    "theta[2] += af[1] + af[0]\n",
    "\n",
    "k_star = (theta.T * g)[0] * 10**(3-4)\n",
    "\n",
    "m_star = (theta.T*m*theta)[0]*1e-4\n",
    "\n",
    "omega_n_sq = k_star/m_star\n",
    "\n",
    "phi = theta*1e-4\n",
    "\n",
    "phi_n = ABSnorm(phi)\n",
    "psi = phi_n\n",
    "phi_n\n"
   ]
  },
  {
   "cell_type": "code",
   "execution_count": null,
   "metadata": {},
   "outputs": [],
   "source": []
  },
  {
   "cell_type": "code",
   "execution_count": null,
   "metadata": {},
   "outputs": [],
   "source": []
  }
 ],
 "metadata": {
  "kernelspec": {
   "display_name": "Python 3 (ipykernel)",
   "language": "python",
   "name": "python3"
  },
  "language_info": {
   "codemirror_mode": {
    "name": "ipython",
    "version": 3
   },
   "file_extension": ".py",
   "mimetype": "text/x-python",
   "name": "python",
   "nbconvert_exporter": "python",
   "pygments_lexer": "ipython3",
   "version": "3.9.7"
  },
  "vscode": {
   "interpreter": {
    "hash": "ae86299477d419b4dc55653bcf2331b845e672881aa0a457946474fa09b31dca"
   }
  }
 },
 "nbformat": 4,
 "nbformat_minor": 2
}
